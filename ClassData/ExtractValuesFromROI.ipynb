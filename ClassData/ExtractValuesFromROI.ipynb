{
 "cells": [
  {
   "cell_type": "code",
   "execution_count": 54,
   "metadata": {},
   "outputs": [],
   "source": [
    "from nilearn import datasets\n",
    "from nilearn import input_data\n",
    "import nilearn\n",
    "import numpy as np\n",
    "import os,json,glob,sys\n",
    "import pandas as pd"
   ]
  },
  {
   "cell_type": "code",
   "execution_count": 40,
   "metadata": {},
   "outputs": [
    {
     "name": "stdout",
     "output_type": "stream",
     "text": [
      "Stacked coordinates in array of shape (3, 3).\n"
     ]
    }
   ],
   "source": [
    "#Replace the xyz coordinates here with your coordinates\n",
    "#coords=np.append([[10, 20, 30], [4, 5, 6]], [[-10, 20,8]], axis=0)\n",
    "coords=np.array([[10, 20, 30],\n",
    "               [4, 5, 6],\n",
    "               [-10, 20,8]])\n",
    "np.array([[3, 7],\n",
    "                [4, 5]])\n",
    "print('Stacked coordinates in array of shape {0}.'.format(coords.shape))"
   ]
  },
  {
   "cell_type": "code",
   "execution_count": 41,
   "metadata": {},
   "outputs": [
    {
     "data": {
      "text/plain": [
       "array([[ 10,  20,  30],\n",
       "       [  4,   5,   6],\n",
       "       [-10,  20,   8]])"
      ]
     },
     "execution_count": 41,
     "metadata": {},
     "output_type": "execute_result"
    }
   ],
   "source": [
    "coords"
   ]
  },
  {
   "cell_type": "code",
   "execution_count": 42,
   "metadata": {},
   "outputs": [],
   "source": [
    "spheres_masker = input_data.NiftiSpheresMasker(\n",
    "    seeds=coords, smoothing_fwhm=4, radius=5.,\n",
    "    detrend=False, standardize=False)"
   ]
  },
  {
   "cell_type": "markdown",
   "metadata": {},
   "source": [
    "# Select your files"
   ]
  },
  {
   "cell_type": "code",
   "execution_count": 43,
   "metadata": {},
   "outputs": [],
   "source": [
    "files=glob.glob('/home/jovyan/ClassData/LabResults/*_1_Social.nii.gz')"
   ]
  },
  {
   "cell_type": "markdown",
   "metadata": {},
   "source": [
    "# Test it on the first file"
   ]
  },
  {
   "cell_type": "code",
   "execution_count": 44,
   "metadata": {},
   "outputs": [],
   "source": [
    "values = spheres_masker.fit_transform(files[0])"
   ]
  },
  {
   "cell_type": "code",
   "execution_count": 45,
   "metadata": {},
   "outputs": [
    {
     "data": {
      "text/plain": [
       "array([[0.61013925, 0.4118879 , 0.5153719 ]], dtype=float32)"
      ]
     },
     "execution_count": 45,
     "metadata": {},
     "output_type": "execute_result"
    }
   ],
   "source": [
    "values"
   ]
  },
  {
   "cell_type": "markdown",
   "metadata": {},
   "source": [
    "# Pull data from all files that match your criteria"
   ]
  },
  {
   "cell_type": "code",
   "execution_count": 48,
   "metadata": {},
   "outputs": [],
   "source": [
    "values= np.empty((0, 3))\n",
    "for file in files:\n",
    "    temp = spheres_masker.fit_transform(file)\n",
    "    values=np.append(values,temp,axis=0)"
   ]
  },
  {
   "cell_type": "code",
   "execution_count": 49,
   "metadata": {},
   "outputs": [
    {
     "data": {
      "text/plain": [
       "array([[ 0.61013925,  0.41188791,  0.51537192],\n",
       "       [ 1.5056535 , -0.76661056, -0.23141474],\n",
       "       [ 0.87506407,  1.00892293,  0.84271103],\n",
       "       [ 1.52319193,  0.4370445 ,  1.16265893],\n",
       "       [ 0.97697926,  0.26718119,  0.52072883],\n",
       "       [ 0.406946  ,  0.21714199, -0.15127108],\n",
       "       [-0.16856544,  0.71265519,  0.58970141],\n",
       "       [ 0.40419444,  0.32201752,  0.85517353],\n",
       "       [ 0.39164862,  0.51352459,  1.20169318]])"
      ]
     },
     "execution_count": 49,
     "metadata": {},
     "output_type": "execute_result"
    }
   ],
   "source": [
    "values"
   ]
  },
  {
   "cell_type": "markdown",
   "metadata": {},
   "source": [
    "# Combine filenames and data pulled from stat maps\n",
    "Change region1, 2 and 3 to the label that you want for that region, ie Amygdala etc"
   ]
  },
  {
   "cell_type": "code",
   "execution_count": 52,
   "metadata": {},
   "outputs": [],
   "source": [
    "dataset = pd.DataFrame({'Filename': files, 'Region1': values[:, 0], 'Region2': values[:, 1],'Region3': values[:, 2]})"
   ]
  },
  {
   "cell_type": "code",
   "execution_count": 53,
   "metadata": {},
   "outputs": [
    {
     "data": {
      "text/html": [
       "<div>\n",
       "<style scoped>\n",
       "    .dataframe tbody tr th:only-of-type {\n",
       "        vertical-align: middle;\n",
       "    }\n",
       "\n",
       "    .dataframe tbody tr th {\n",
       "        vertical-align: top;\n",
       "    }\n",
       "\n",
       "    .dataframe thead th {\n",
       "        text-align: right;\n",
       "    }\n",
       "</style>\n",
       "<table border=\"1\" class=\"dataframe\">\n",
       "  <thead>\n",
       "    <tr style=\"text-align: right;\">\n",
       "      <th></th>\n",
       "      <th>Filename</th>\n",
       "      <th>Region1</th>\n",
       "      <th>Region2</th>\n",
       "      <th>Region3</th>\n",
       "    </tr>\n",
       "  </thead>\n",
       "  <tbody>\n",
       "    <tr>\n",
       "      <th>0</th>\n",
       "      <td>/home/jovyan/ClassData/LabResults/sid000747_1_...</td>\n",
       "      <td>0.610139</td>\n",
       "      <td>0.411888</td>\n",
       "      <td>0.515372</td>\n",
       "    </tr>\n",
       "    <tr>\n",
       "      <th>1</th>\n",
       "      <td>/home/jovyan/ClassData/LabResults/sid001560_1_...</td>\n",
       "      <td>1.505654</td>\n",
       "      <td>-0.766611</td>\n",
       "      <td>-0.231415</td>\n",
       "    </tr>\n",
       "    <tr>\n",
       "      <th>2</th>\n",
       "      <td>/home/jovyan/ClassData/LabResults/sid001551_1_...</td>\n",
       "      <td>0.875064</td>\n",
       "      <td>1.008923</td>\n",
       "      <td>0.842711</td>\n",
       "    </tr>\n",
       "    <tr>\n",
       "      <th>3</th>\n",
       "      <td>/home/jovyan/ClassData/LabResults/sid001562_1_...</td>\n",
       "      <td>1.523192</td>\n",
       "      <td>0.437045</td>\n",
       "      <td>1.162659</td>\n",
       "    </tr>\n",
       "    <tr>\n",
       "      <th>4</th>\n",
       "      <td>/home/jovyan/ClassData/LabResults/sid001561_1_...</td>\n",
       "      <td>0.976979</td>\n",
       "      <td>0.267181</td>\n",
       "      <td>0.520729</td>\n",
       "    </tr>\n",
       "    <tr>\n",
       "      <th>5</th>\n",
       "      <td>/home/jovyan/ClassData/LabResults/sid000689_1_...</td>\n",
       "      <td>0.406946</td>\n",
       "      <td>0.217142</td>\n",
       "      <td>-0.151271</td>\n",
       "    </tr>\n",
       "    <tr>\n",
       "      <th>6</th>\n",
       "      <td>/home/jovyan/ClassData/LabResults/sid001550_1_...</td>\n",
       "      <td>-0.168565</td>\n",
       "      <td>0.712655</td>\n",
       "      <td>0.589701</td>\n",
       "    </tr>\n",
       "    <tr>\n",
       "      <th>7</th>\n",
       "      <td>/home/jovyan/ClassData/LabResults/sid001548_1_...</td>\n",
       "      <td>0.404194</td>\n",
       "      <td>0.322018</td>\n",
       "      <td>0.855174</td>\n",
       "    </tr>\n",
       "    <tr>\n",
       "      <th>8</th>\n",
       "      <td>/home/jovyan/ClassData/LabResults/sid000118_1_...</td>\n",
       "      <td>0.391649</td>\n",
       "      <td>0.513525</td>\n",
       "      <td>1.201693</td>\n",
       "    </tr>\n",
       "  </tbody>\n",
       "</table>\n",
       "</div>"
      ],
      "text/plain": [
       "                                            Filename   Region1   Region2  \\\n",
       "0  /home/jovyan/ClassData/LabResults/sid000747_1_...  0.610139  0.411888   \n",
       "1  /home/jovyan/ClassData/LabResults/sid001560_1_...  1.505654 -0.766611   \n",
       "2  /home/jovyan/ClassData/LabResults/sid001551_1_...  0.875064  1.008923   \n",
       "3  /home/jovyan/ClassData/LabResults/sid001562_1_...  1.523192  0.437045   \n",
       "4  /home/jovyan/ClassData/LabResults/sid001561_1_...  0.976979  0.267181   \n",
       "5  /home/jovyan/ClassData/LabResults/sid000689_1_...  0.406946  0.217142   \n",
       "6  /home/jovyan/ClassData/LabResults/sid001550_1_... -0.168565  0.712655   \n",
       "7  /home/jovyan/ClassData/LabResults/sid001548_1_...  0.404194  0.322018   \n",
       "8  /home/jovyan/ClassData/LabResults/sid000118_1_...  0.391649  0.513525   \n",
       "\n",
       "    Region3  \n",
       "0  0.515372  \n",
       "1 -0.231415  \n",
       "2  0.842711  \n",
       "3  1.162659  \n",
       "4  0.520729  \n",
       "5 -0.151271  \n",
       "6  0.589701  \n",
       "7  0.855174  \n",
       "8  1.201693  "
      ]
     },
     "execution_count": 53,
     "metadata": {},
     "output_type": "execute_result"
    }
   ],
   "source": [
    "dataset"
   ]
  },
  {
   "cell_type": "code",
   "execution_count": 55,
   "metadata": {},
   "outputs": [],
   "source": [
    "dataset.to_csv('/home/jovyan/ClassData/LabResults/ROI_Results.csv')"
   ]
  },
  {
   "cell_type": "code",
   "execution_count": null,
   "metadata": {},
   "outputs": [],
   "source": []
  }
 ],
 "metadata": {
  "kernelspec": {
   "display_name": "Python 3",
   "language": "python",
   "name": "python3"
  },
  "language_info": {
   "codemirror_mode": {
    "name": "ipython",
    "version": 3
   },
   "file_extension": ".py",
   "mimetype": "text/x-python",
   "name": "python",
   "nbconvert_exporter": "python",
   "pygments_lexer": "ipython3",
   "version": "3.7.3"
  }
 },
 "nbformat": 4,
 "nbformat_minor": 2
}

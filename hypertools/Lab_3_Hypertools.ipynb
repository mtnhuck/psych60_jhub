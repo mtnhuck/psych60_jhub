{
 "cells": [
  {
   "cell_type": "markdown",
   "metadata": {},
   "source": [
    "# Overview"
   ]
  },
  {
   "cell_type": "markdown",
   "metadata": {},
   "source": [
    "DATA : stress ratings\n",
    "\n",
    "CODE : analyze & visualize\n",
    "\n",
    "APPLY : behavioral, fMRI"
   ]
  },
  {
   "cell_type": "markdown",
   "metadata": {},
   "source": [
    "# Imports"
   ]
  },
  {
   "cell_type": "code",
   "execution_count": null,
   "metadata": {},
   "outputs": [],
   "source": [
    "import pandas as pd; import os; import warnings\n",
    "import matplotlib as mpl\n",
    "import matplotlib.pyplot as plt\n",
    "warnings.filterwarnings('ignore')\n",
    "%matplotlib notebook\n",
    "import hypertools; import seaborn as sb; "
   ]
  },
  {
   "cell_type": "code",
   "execution_count": null,
   "metadata": {},
   "outputs": [],
   "source": [
    "%matplotlib notebook\n",
    "mpl.get_backend() "
   ]
  },
  {
   "cell_type": "markdown",
   "metadata": {},
   "source": [
    "# Compile data"
   ]
  },
  {
   "cell_type": "code",
   "execution_count": null,
   "metadata": {},
   "outputs": [],
   "source": [
    "#unzip our behavioral data into the hypertools folder\n",
    "!unzip /home/jovyan/psych60_jhub/hypertools/ProcessedSuperlabData.zip -d /home/jovyan/psych60_jhub/hypertools/"
   ]
  },
  {
   "cell_type": "code",
   "execution_count": null,
   "metadata": {},
   "outputs": [],
   "source": [
    "#install a package so we can read excel files\n",
    "!pip install xlrd"
   ]
  },
  {
   "cell_type": "markdown",
   "metadata": {},
   "source": [
    "Make sure that you have placed the behavioral data in the hypertools folder first otherwise you will get a \"No objects to concatenate error\"!"
   ]
  },
  {
   "cell_type": "code",
   "execution_count": null,
   "metadata": {},
   "outputs": [],
   "source": [
    "data_list = []\n",
    "\n",
    "for x in os.listdir('.'):\n",
    "    if x[-3:] == 'csv':\n",
    "        data_list.append(pd.read_csv(x))\n",
    "\n",
    "data   = pd.concat(data_list)\n",
    "#onsets = pd.read_csv('Onsets.csv')"
   ]
  },
  {
   "cell_type": "code",
   "execution_count": null,
   "metadata": {},
   "outputs": [],
   "source": [
    "onsets = pd.read_excel('Onsets.xlsx')"
   ]
  },
  {
   "cell_type": "code",
   "execution_count": null,
   "metadata": {
    "scrolled": true
   },
   "outputs": [],
   "source": [
    "data"
   ]
  },
  {
   "cell_type": "code",
   "execution_count": null,
   "metadata": {},
   "outputs": [],
   "source": [
    "onsets"
   ]
  },
  {
   "cell_type": "markdown",
   "metadata": {},
   "source": [
    "# Check it out ..."
   ]
  },
  {
   "cell_type": "code",
   "execution_count": null,
   "metadata": {
    "scrolled": true
   },
   "outputs": [],
   "source": [
    "print(len(data['Name'].unique()))\n",
    "print()\n",
    "print(data['Name'].unique())\n",
    "data['Name2'] = data['Name.2']"
   ]
  },
  {
   "cell_type": "code",
   "execution_count": null,
   "metadata": {},
   "outputs": [],
   "source": [
    "data[['new_order', 'new_trial']] = data.Name2.str.split(' ', n=2, expand=True)"
   ]
  },
  {
   "cell_type": "code",
   "execution_count": null,
   "metadata": {},
   "outputs": [],
   "source": [
    "data"
   ]
  },
  {
   "cell_type": "code",
   "execution_count": null,
   "metadata": {},
   "outputs": [],
   "source": [
    "data = data[(data['subject']!='A1548') & (data['subject']!='SID001548')]\n",
    "\n",
    "data.groupby(['subject','new_order']).mean()"
   ]
  },
  {
   "cell_type": "code",
   "execution_count": null,
   "metadata": {},
   "outputs": [],
   "source": [
    "# for each subject\n",
    "for subject in data['subject'].unique():\n",
    "\n",
    "    if type(subject)!=float:\n",
    "    \n",
    "        # for each order\n",
    "        for order in data['new_order'].unique():\n",
    "            \n",
    "            if type(order)!=float:\n",
    "\n",
    "            # get the chunk of this subject that has this order\n",
    "            # set Question columns equal to the question list from Onsets.csv\n",
    "\n",
    "                data.loc[(data['subject']   == subject) & \n",
    "                     (data['new_order'] == order  ), 'question'] = onsets['Order '+str(order[-2])]\n"
   ]
  },
  {
   "cell_type": "markdown",
   "metadata": {},
   "source": [
    "# Let's make some plots, eh?"
   ]
  },
  {
   "cell_type": "code",
   "execution_count": null,
   "metadata": {},
   "outputs": [],
   "source": [
    "data[['button','button_num','color']] = data.Response.str.split(' ', n=2, expand=True)"
   ]
  },
  {
   "cell_type": "code",
   "execution_count": null,
   "metadata": {},
   "outputs": [],
   "source": [
    "# data['Name3']=data['Name.3']\n",
    "\n",
    "\n",
    "# new_stim = []\n",
    "\n",
    "# for x in list(data.Name3.str.split(', ')):\n",
    "    \n",
    "#     if type(x)!=float and len(x)>1:\n",
    "#         new_stim.append(x[1])\n",
    "#     else:\n",
    "#         new_stim.append(str(x)[0])\n",
    "    \n",
    "# data['new_stim'] = new_stim"
   ]
  },
  {
   "cell_type": "code",
   "execution_count": null,
   "metadata": {},
   "outputs": [],
   "source": [
    "plot_data = data.groupby(['Name','question','button_num'], as_index=False).mean()\n",
    "plot_data['button_num'] = pd.to_numeric(plot_data.button_num)"
   ]
  },
  {
   "cell_type": "code",
   "execution_count": null,
   "metadata": {},
   "outputs": [],
   "source": [
    "plot_data"
   ]
  },
  {
   "cell_type": "markdown",
   "metadata": {},
   "source": [
    "# Initial Look"
   ]
  },
  {
   "cell_type": "markdown",
   "metadata": {},
   "source": [
    "### Some subjects have higher / lower average stress scores"
   ]
  },
  {
   "cell_type": "code",
   "execution_count": null,
   "metadata": {},
   "outputs": [],
   "source": [
    "sb.barplot(x='Name', y='button_num', data=plot_data)"
   ]
  },
  {
   "cell_type": "markdown",
   "metadata": {},
   "source": [
    "### Some questions also yield higher / lower average scores"
   ]
  },
  {
   "cell_type": "code",
   "execution_count": null,
   "metadata": {},
   "outputs": [],
   "source": [
    "sb.barplot(x='question', y='button_num', data=plot_data)"
   ]
  },
  {
   "cell_type": "markdown",
   "metadata": {},
   "source": [
    "# STUDENT QUESTIONS"
   ]
  },
  {
   "cell_type": "markdown",
   "metadata": {},
   "source": [
    "# QUESTION 1: \n",
    "\n",
    "## Do people get less stressed over time / acclimate to the stressors ? "
   ]
  },
  {
   "cell_type": "code",
   "execution_count": null,
   "metadata": {},
   "outputs": [],
   "source": [
    "data['button_num'] = pd.to_numeric(data.button_num)\n",
    "data.head()\n",
    "data['Name2'] = data['Name.2']\n",
    "data['OrderType'] = data.Name2.str.split(',', n=2, expand=True)[0]\n",
    "data['OrderType'].unique()"
   ]
  },
  {
   "cell_type": "markdown",
   "metadata": {},
   "source": [
    "### Sure doesn't look like it.. ;)"
   ]
  },
  {
   "cell_type": "code",
   "execution_count": null,
   "metadata": {
    "scrolled": true
   },
   "outputs": [],
   "source": [
    "# sb.lineplot(x='event', y='button_num', data=data)\n",
    "# sb.regplot('event', 'button_num', data=data, x_ci='ci', scatter=False, fit_reg=True, marker='o')"
   ]
  },
  {
   "cell_type": "markdown",
   "metadata": {},
   "source": [
    "\n",
    "\n",
    "### Gosh, that grey line looks interesting..."
   ]
  },
  {
   "cell_type": "code",
   "execution_count": null,
   "metadata": {},
   "outputs": [],
   "source": [
    "# sb.lineplot(x='event', y='button_num', data=data)\n",
    "# sb.regplot('event', 'button_num', data=data[data['OrderType']=='Order1'], x_ci='ci', scatter=False, fit_reg=True,  color='white', marker='o')\n",
    "# sb.regplot('event', 'button_num', data=data[data['OrderType']=='Order2'], x_ci='ci', scatter=False, fit_reg=True,  color='gray' , marker='o')\n",
    "# sb.regplot('event', 'button_num', data=data[data['OrderType']=='Order3'], x_ci='ci', scatter=False, fit_reg=True,  color='black', marker='o')"
   ]
  },
  {
   "cell_type": "code",
   "execution_count": null,
   "metadata": {},
   "outputs": [],
   "source": [
    "# Question for students: what kind of stats will we want for the above trendline(s)?\n",
    "\n",
    "# Are there other things you might want to look at or explore here?"
   ]
  },
  {
   "cell_type": "code",
   "execution_count": null,
   "metadata": {},
   "outputs": [],
   "source": [
    "data['subject'].unique()"
   ]
  },
  {
   "cell_type": "code",
   "execution_count": null,
   "metadata": {},
   "outputs": [],
   "source": [
    "data[data['OrderType']=='Order1']"
   ]
  },
  {
   "cell_type": "code",
   "execution_count": null,
   "metadata": {},
   "outputs": [],
   "source": [
    "# # response time over time seems not too exciting...\n",
    "# sb.lineplot(x='event', y='Time', data=data)"
   ]
  },
  {
   "cell_type": "code",
   "execution_count": null,
   "metadata": {},
   "outputs": [],
   "source": [
    "data"
   ]
  },
  {
   "cell_type": "code",
   "execution_count": null,
   "metadata": {},
   "outputs": [],
   "source": [
    "\n",
    "\n",
    "hypertools.plot([data[data['new_order']=='Order1,'][[ 'question']],\n",
    "                data[data['new_order']=='Order2,'][[ 'question']],\n",
    "                data[data['new_order']=='Order3,'][['question']]],  frame_rate=200, animate=True)"
   ]
  },
  {
   "cell_type": "markdown",
   "metadata": {},
   "source": [
    "### Other things to think about"
   ]
  },
  {
   "cell_type": "code",
   "execution_count": null,
   "metadata": {},
   "outputs": [],
   "source": [
    "import matplotlib as mpl"
   ]
  },
  {
   "cell_type": "code",
   "execution_count": null,
   "metadata": {},
   "outputs": [],
   "source": [
    "mpl.get_backend()"
   ]
  },
  {
   "cell_type": "markdown",
   "metadata": {},
   "source": [
    "We can also reduce and plot high dimensional data (like fMRI) over time.... Hmm\n"
   ]
  },
  {
   "cell_type": "code",
   "execution_count": null,
   "metadata": {},
   "outputs": [],
   "source": [
    "from IPython.display import Image\n",
    "Image(url='https://hypertools.readthedocs.io/en/latest/_images/hypertools.gif')  "
   ]
  },
  {
   "cell_type": "markdown",
   "metadata": {},
   "source": [
    "# QUESTION 2:\n",
    "\n",
    "## Are the stressors unique or different from each other?"
   ]
  },
  {
   "cell_type": "code",
   "execution_count": null,
   "metadata": {},
   "outputs": [],
   "source": [
    "data['question'].unique()"
   ]
  },
  {
   "cell_type": "code",
   "execution_count": null,
   "metadata": {},
   "outputs": [],
   "source": [
    "# see how questions cluster, based on content ! \n",
    "\n",
    "# text vectorized (scikit-learn CountVectorizer) --> estimate topics (LatentDirichletAllocation)\n",
    "\n",
    "labels = data['question'].unique()[:-1]\n",
    "geo    = hypertools.plot(data['question'].unique()[:-1], 'o', size=[8, 6], n_clusters=4) "
   ]
  },
  {
   "cell_type": "code",
   "execution_count": null,
   "metadata": {},
   "outputs": [],
   "source": [
    "labels = hypertools.cluster(data['question'].unique()[:-1], n_clusters=4) \n",
    "dictionary = {'questions':data['question'].unique()[:-1], 'labels':labels}\n",
    "df = pd.DataFrame(dictionary)\n",
    "\n",
    "df[df['labels']==3]\n",
    "\n",
    "# look at the different clusters of questions...\n",
    "# do they appear to have anything in common?\n",
    "\n",
    "# what happens if we use more or fewer clusters? "
   ]
  },
  {
   "cell_type": "code",
   "execution_count": null,
   "metadata": {},
   "outputs": [],
   "source": [
    "data.columns"
   ]
  },
  {
   "cell_type": "code",
   "execution_count": null,
   "metadata": {},
   "outputs": [],
   "source": [
    "cluster_button = data.groupby(['question'], as_index=False).mean()"
   ]
  },
  {
   "cell_type": "code",
   "execution_count": null,
   "metadata": {},
   "outputs": [],
   "source": [
    "data.columns"
   ]
  },
  {
   "cell_type": "code",
   "execution_count": null,
   "metadata": {},
   "outputs": [],
   "source": [
    "# data['Response.1']"
   ]
  },
  {
   "cell_type": "code",
   "execution_count": null,
   "metadata": {},
   "outputs": [],
   "source": [
    "#labels = data['question'].unique()[:-1]\n",
    "geo    = hypertools.plot(cluster_button[['question', 'button_num']], '*', size=[8, 6], n_clusters=5) \n",
    "labels = hypertools.cluster(cluster_button[['question', 'button_num']], n_clusters=5) \n",
    "plt.show()\n",
    "\n",
    "dictionary = {'questions':cluster_button['question'].unique(), 'labels':labels}\n",
    "df = pd.DataFrame(dictionary)\n",
    "df[df['labels']==2]"
   ]
  },
  {
   "cell_type": "code",
   "execution_count": null,
   "metadata": {},
   "outputs": [],
   "source": [
    "geo    = hypertools.plot(cluster_button[['button_num']], 'o', size=[8, 6], n_clusters=5) \n",
    "labels = hypertools.cluster(cluster_button[['button_num']], n_clusters=5) \n",
    "plt.show()\n",
    "\n",
    "k = [i for i, e in enumerate(labels) if e == 4]\n",
    "\n",
    "for a in k:\n",
    "    print(cluster_button['question'][a])\n"
   ]
  },
  {
   "cell_type": "code",
   "execution_count": null,
   "metadata": {},
   "outputs": [],
   "source": [
    "grp = data.groupby(['question'], as_index=False).mean()\n",
    "grp[grp['question']=='Seeing your ex at a party']['button_num']\n",
    "grp[grp['question']=='Walking into an interview for your dream job']['button_num']"
   ]
  },
  {
   "cell_type": "code",
   "execution_count": null,
   "metadata": {},
   "outputs": [],
   "source": [
    "cluster_button[['question', 'button_num']]"
   ]
  },
  {
   "cell_type": "markdown",
   "metadata": {},
   "source": [
    "Question for students: If I cluster the questions by the scores students give them, how will that relate to the structure of the Order 3 stimulus set"
   ]
  },
  {
   "cell_type": "code",
   "execution_count": null,
   "metadata": {},
   "outputs": [],
   "source": [
    "# Determining the number of clusters"
   ]
  },
  {
   "cell_type": "code",
   "execution_count": null,
   "metadata": {},
   "outputs": [],
   "source": [
    "# helpful resource here :\n",
    "# https://learn.scientificprogramming.io/python-k-means-data-clustering-and-finding-of-the-best-k-485f66297c06"
   ]
  },
  {
   "cell_type": "code",
   "execution_count": null,
   "metadata": {},
   "outputs": [],
   "source": [
    "from IPython.display import Image\n",
    "Image(\"screenshot.png\")"
   ]
  },
  {
   "cell_type": "markdown",
   "metadata": {},
   "source": [
    "# QUESTION 3: \n",
    "\n",
    "## Does stress from one stimulus influence the response to the next? \n",
    "\n",
    "## Does some stress \"carry over\"?"
   ]
  },
  {
   "cell_type": "code",
   "execution_count": null,
   "metadata": {},
   "outputs": [],
   "source": [
    "# Question for students: what are different ways we might look at this?"
   ]
  },
  {
   "cell_type": "code",
   "execution_count": null,
   "metadata": {},
   "outputs": [],
   "source": [
    "# Question for students: what other thigns might we want to look at / visualize / think about?"
   ]
  },
  {
   "cell_type": "code",
   "execution_count": null,
   "metadata": {},
   "outputs": [],
   "source": []
  }
 ],
 "metadata": {
  "kernelspec": {
   "display_name": "Python 3",
   "language": "python",
   "name": "python3"
  },
  "language_info": {
   "codemirror_mode": {
    "name": "ipython",
    "version": 3
   },
   "file_extension": ".py",
   "mimetype": "text/x-python",
   "name": "python",
   "nbconvert_exporter": "python",
   "pygments_lexer": "ipython3",
   "version": "3.6.8"
  },
  "varInspector": {
   "cols": {
    "lenName": 16,
    "lenType": 16,
    "lenVar": 40
   },
   "kernels_config": {
    "python": {
     "delete_cmd_postfix": "",
     "delete_cmd_prefix": "del ",
     "library": "var_list.py",
     "varRefreshCmd": "print(var_dic_list())"
    },
    "r": {
     "delete_cmd_postfix": ") ",
     "delete_cmd_prefix": "rm(",
     "library": "var_list.r",
     "varRefreshCmd": "cat(var_dic_list()) "
    }
   },
   "types_to_exclude": [
    "module",
    "function",
    "builtin_function_or_method",
    "instance",
    "_Feature"
   ],
   "window_display": false
  }
 },
 "nbformat": 4,
 "nbformat_minor": 2
}

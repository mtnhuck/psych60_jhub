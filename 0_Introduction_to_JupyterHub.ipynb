{
 "cells": [
  {
   "cell_type": "markdown",
   "metadata": {},
   "source": [
    "# Introduction to JupyterHub\n",
    "*Written by Jeremy Huckins & Luke Chang*\n",
    "\n",
    "In this course we will primarily be using python to learn about fMRI data analysis. Many of the laboratories can be run on your own individual laptops once you have installed Python (preferably via an [anaconda distribution](https://www.anaconda.com/distribution/). Often we will also be working with neuroimaging datasets, which can have large storage requirements. We will also occasionally be using additional software that will be called by Python (e.g., preprocessing). Finally, some of the analyses we will run can be very computationally expensive and may exceed the capabilities of your laptop.  To meet these needs, Dartmouth's Research Computing has generously provided an AWS cloud server that will allow us to store data, access specialized software, and run analyses.\n",
    "\n",
    "The main portal to access this resource will be through the Jupyterhub interface. This allows you to remotely login in to the server through your browser at https://jupyter.dartmouth.edu using your netid. Please let us know if you are having difficulty logging in as this might mean we need to have an account created for you.\n",
    "\n",
    "A couple of quick notes.  To be a good user, please do not leave your notebook running when you aren't using it. This can be accomplished by using the *logout* button when you're done rather than simply closing your laptop or browser. Additionally we will try to clean up intermediate data files that we are not using at the end of each lab."
   ]
  },
  {
   "cell_type": "markdown",
   "metadata": {},
   "source": [
    "# Today's Goals\n",
    "\n",
    "1. Log into jhub.dartmouth.edu\n",
    "\n",
    "2. Create a folder to save your notebooks in\n",
    "\n",
    "3. Save a test notebook into your directory\n",
    "\n",
    "4. Edit a notebook\n",
    "\n",
    "5. Import some python packages"
   ]
  },
  {
   "cell_type": "markdown",
   "metadata": {},
   "source": [
    "# 1. jhub\n",
    "\n",
    "Please navigate to [jhub.dartmouth.edu](jhub.dartmouth.edu). This is only accessible from the Dartmouth College network, either through direct ethernet connection, the eduroam WiFi network or a VPN connection to campus with [GlobalProtect](https://sites.dartmouth.edu/biomed/2019/04/11/new-vpn-globalprotect/).\n",
    "\n",
    "Login with your DID and DUO.\n",
    "\n",
    "Select our class from the menu.\n",
    "\n",
    "Please click on the `0_Introduction_to_JupyterHub.ipynb` notebook\n",
    "\n",
    "Go back to the Home tab and work through the tutorial [here](https://www.dataquest.io/blog/jupyter-notebook-tutorial/), skipping the installation part as we are already up and running with jupyter. Please stop at the Save and Checkpoint section."
   ]
  },
  {
   "cell_type": "markdown",
   "metadata": {},
   "source": [
    "# Introduction to Jupyter Notebooks\n",
    "\n",
    "Jupyter notebooks are a great way to have your code, comments and results show up inline in a web browser. Work for this class will be done in Jupyter notebooks so you can reference what you have done, see the results and someone else could redo it in the future, similar to a typical lab notebook.\n",
    "\n",
    "Rather than writing and re-writing an entire program, you can write lines of code and run them one at a time. Then, if you need to make a change, you can go back and make your edit and rerun the program again, all in the same window. In our specific case, we are going to use [JupyterHub](https://jupyterhub.readthedocs.io/en/stable/) which lets several people access the same computer and data at the same time through a web browser. \n",
    "\n",
    "Finally, you can view examples and share your work with the world very easily through [nbviewer](https://nbviewer.jupyter.org).  One easy trick if you use a cloud storage service like dropbox is to paste a link to the dropbox file in nbviewer.  These links will persist as long as the file remains being shared via dropbox."
   ]
  },
  {
   "cell_type": "markdown",
   "metadata": {},
   "source": [
    "# 2. Folder creation\n",
    "\n",
    "From the Home tab lets make a new folder by clicking `New` then `Folder`.\n",
    "\n",
    "Select this folder using the buttons on the left and rename it. Lets call it `MyNotebooks`\n",
    "\n",
    "We will save all future notebooks in this folder."
   ]
  },
  {
   "cell_type": "markdown",
   "metadata": {},
   "source": [
    "# 3. Save a test notebook into your directory\n",
    "\n",
    "To save the notebook 0_Introduction_to_JupyterHub.ipynb into your MyNotebooks folder by click Save As and enter `/MyNotebooks/0_Introduction_to_JupyterHub.ipynb`\n",
    "\n",
    "The notebook you are running is the now the one saved into the MyNotebooks directory."
   ]
  },
  {
   "cell_type": "markdown",
   "metadata": {},
   "source": [
    "# 4. Edit a notebook\n",
    "\n",
    "Double-click on this cell and add some text below this. Next hold down \"Shift\" and press \"Enter\" to run the cell and show your edits.\n",
    "\n"
   ]
  },
  {
   "cell_type": "markdown",
   "metadata": {},
   "source": [
    "# 5. Import some python packages\n",
    "\n",
    "In order to use python packages installed on this server we need to import them. First make sure the kernel label in the top right says Python 3."
   ]
  },
  {
   "cell_type": "code",
   "execution_count": null,
   "metadata": {},
   "outputs": [],
   "source": [
    "import os"
   ]
  },
  {
   "cell_type": "markdown",
   "metadata": {},
   "source": [
    "What does the In [#] above mean? Please fill out your answer in the cell below."
   ]
  },
  {
   "cell_type": "markdown",
   "metadata": {},
   "source": [
    " "
   ]
  },
  {
   "cell_type": "markdown",
   "metadata": {},
   "source": [
    "What happens if you rerun the `import os` command above?"
   ]
  },
  {
   "cell_type": "markdown",
   "metadata": {},
   "source": [
    " "
   ]
  },
  {
   "cell_type": "markdown",
   "metadata": {},
   "source": [
    "The `os` package is just a tool for using system functions within python, similar to what we did in the linux tutorial."
   ]
  },
  {
   "cell_type": "markdown",
   "metadata": {},
   "source": [
    " "
   ]
  },
  {
   "cell_type": "code",
   "execution_count": null,
   "metadata": {},
   "outputs": [],
   "source": [
    "os.listdir()"
   ]
  },
  {
   "cell_type": "markdown",
   "metadata": {},
   "source": [
    "Compare this to what you see on our Home page. What is simlar? What is different?"
   ]
  },
  {
   "cell_type": "markdown",
   "metadata": {},
   "source": [
    " "
   ]
  },
  {
   "cell_type": "markdown",
   "metadata": {},
   "source": [
    "# References\n",
    "\n",
    "[Jupyter Dashboard Walkthrough](https://365datascience.com/the-jupyter-dashboard-a-walkthrough/)\n",
    "\n",
    "[Jupyter Notebook Manual](https://jupyter.readthedocs.io/en/latest/running.html#running)\n",
    "\n",
    "[Getting Started With Jupyter Notebook](https://medium.com/codingthesmartway-com-blog/getting-started-with-jupyter-notebook-for-python-4e7082bd5d46)\n",
    "\n",
    "[Markdown Cheatsheet](https://github.com/adam-p/markdown-here/wiki/Markdown-Cheatsheet)\n",
    "\n",
    "[Convert jupyter notebook to slides](https://github.com/datitran/jupyter2slides)"
   ]
  }
 ],
 "metadata": {
  "kernelspec": {
   "display_name": "Python 3",
   "language": "python",
   "name": "python3"
  },
  "language_info": {
   "codemirror_mode": {
    "name": "ipython",
    "version": 3
   },
   "file_extension": ".py",
   "mimetype": "text/x-python",
   "name": "python",
   "nbconvert_exporter": "python",
   "pygments_lexer": "ipython3",
   "version": "3.7.3"
  }
 },
 "nbformat": 4,
 "nbformat_minor": 2
}

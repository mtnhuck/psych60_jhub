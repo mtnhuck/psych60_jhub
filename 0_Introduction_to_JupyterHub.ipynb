{
 "cells": [
  {
   "cell_type": "markdown",
   "metadata": {},
   "source": [
    "# Introduction to JupyterHub\n",
    "*Written by Jeremy Huckins & Luke Chang*\n",
    "\n",
    "In this course we will primarily be using python to learn about fMRI data analysis. Many of the laboratories can be run on your own individual laptops once you have installed Python (preferably via an [anaconda distribution](https://www.anaconda.com/distribution/). Often we will also be working with neuroimaging datasets, which can have large storage requirements. We will also occasionally be using additional software that will be called by Python (e.g., preprocessing). Finally, some of the analyses we will run can be very computationally expensive and may exceed the capabilities of your laptop.  To meet these needs, Dartmouth's Research Computing has generously provided an AWS cloud server that will allow us to store data, access specialized software, and run analyses.\n",
    "\n",
    "The main portal to access this resource will be through the Jupyterhub interface. This allows you to remotely login in to the server through your browser at [jhub.dartmouth.edu](https://jhub.dartmouth.edu) using your netid. Please let us know if you are having difficulty logging in as this might mean we need to have an account created for you.\n",
    "\n",
    "\n",
    "A couple of quick notes.  To be a good user, please do not leave your notebook running when you aren't using it. This can be accomplished by using the *logout* button when you're done rather than simply closing your laptop or browser. Additionally we will try to clean up intermediate data files that we are not using at the end of each lab."
   ]
  },
  {
   "cell_type": "markdown",
   "metadata": {},
   "source": [
    "# Introduction to Jupyter Notebooks\n",
    "\n",
    "Jupyter notebooks are a great way to have your code, comments and results show up inline in a web browser. Work for this class will be done in Jupyter notebooks so you can reference what you have done, see the results and someone else could redo it in the future, similar to a typical lab notebook.\n",
    "\n",
    "Rather than writing and re-writing an entire program, you can write lines of code and run them one at a time. Then, if you need to make a change, you can go back and make your edit and rerun the program again, all in the same window. In our specific case, we are going to use [JupyterHub](https://jupyterhub.readthedocs.io/en/stable/) which lets several people access the same computer and data at the same time through a web browser. \n",
    "\n",
    "Finally, you can view examples and share your work with the world very easily through [nbviewer](https://nbviewer.jupyter.org).  One easy trick if you use a cloud storage service like dropbox is to paste a link to the dropbox file in nbviewer.  These links will persist as long as the file remains being shared via dropbox."
   ]
  },
  {
   "cell_type": "markdown",
   "metadata": {},
   "source": [
    "# Today's Goals\n",
    "\n",
    "1. Log into jhub.dartmouth.edu\n",
    "\n",
    "2. Pull files from github\n",
    "\n",
    "3. Create a folder to save your notebooks in\n",
    "\n",
    "4.  Save a test notebook into your directory\n",
    "\n",
    "5. Run a test notebook from your personal folder"
   ]
  },
  {
   "cell_type": "markdown",
   "metadata": {},
   "source": [
    "# 1. jhub\n",
    "\n",
    "Please navigate to [jhub.dartmouth.edu](jhub.dartmouth.edu). This is only accessible from the Dartmouth College network, either through direct ethernet connection, the eduroam WiFi network or a VPN connection to campus with [GlobalProtect](https://sites.dartmouth.edu/biomed/2019/04/11/new-vpn-globalprotect/).\n",
    "\n",
    "Login with your DID and DUO.\n",
    "\n",
    "Select our class from the menu.\n",
    "\n",
    "Go back to the Home tab and work through the tutorial [here](https://www.dataquest.io/blog/jupyter-notebook-tutorial/), skipping the installation part as we are already up and running with jupyter. Please stop at the Save and Checkpoint section."
   ]
  },
  {
   "cell_type": "markdown",
   "metadata": {},
   "source": [
    "# 2. Pull files from github\n",
    "Once you have logged into your account and see the Home screen copy and paste the following into a new browser tab:\n",
    "    \n",
    "    https://dartgo.org/psych60_jhub\n",
    "    \n",
    "Please click on the `0_Introduction_to_JupyterHub.ipynb` notebook in the newly created psych60_jhub folder"
   ]
  },
  {
   "cell_type": "markdown",
   "metadata": {},
   "source": [
    "# 3. Folder creation\n",
    "\n",
    "From the Home tab lets make a new folder by clicking \"New\" then \"Folder\".\n",
    "\n",
    "Select this folder using the buttons on the left and rename it. Lets call it \"MyNotebooks\"\n",
    "\n",
    "We will save all future notebooks in this folder."
   ]
  },
  {
   "cell_type": "markdown",
   "metadata": {},
   "source": [
    "# 4. Save a test notebook into your directory\n",
    "\n",
    "To save the notebook /psych60_jhub/0_Introduction_to_JupyterHub.ipynb into your MyNotebooks folder by click Save As and entering /MyNotebooks/0_Introduction_to_JupyterHub.ipynb\n",
    "\n",
    "The notebook you are running is the now the one saved into the MyNotebooks directory."
   ]
  },
  {
   "cell_type": "markdown",
   "metadata": {},
   "source": [
    "# 5. Run some test code\n",
    "\n",
    "For this we will use left vs right button press data from [neurovault](https://neurovault.org/images/10426/). "
   ]
  },
  {
   "cell_type": "markdown",
   "metadata": {},
   "source": [
    "The following is based on [nilearn](https://nilearn.github.io) tutorials "
   ]
  },
  {
   "cell_type": "code",
   "execution_count": 4,
   "metadata": {},
   "outputs": [],
   "source": [
    "from nilearn import datasets\n",
    "from nilearn import plotting"
   ]
  },
  {
   "cell_type": "code",
   "execution_count": null,
   "metadata": {},
   "outputs": [],
   "source": [
    "# one motor contrast map from NeuroVault\n",
    "motor_images = datasets.fetch_neurovault_motor_task()\n",
    "stat_img = motor_images.images[0]"
   ]
  },
  {
   "cell_type": "code",
   "execution_count": 7,
   "metadata": {},
   "outputs": [],
   "source": [
    "view = plotting.view_img(stat_img, threshold=3)"
   ]
  },
  {
   "cell_type": "code",
   "execution_count": null,
   "metadata": {
    "scrolled": true
   },
   "outputs": [],
   "source": [
    "view"
   ]
  },
  {
   "cell_type": "markdown",
   "metadata": {},
   "source": [
    "Make some new cells below, copy the above code down below and make a new figure using a threshold of 2. Do this again for a threshold of 1. "
   ]
  },
  {
   "cell_type": "code",
   "execution_count": null,
   "metadata": {},
   "outputs": [],
   "source": []
  },
  {
   "cell_type": "code",
   "execution_count": null,
   "metadata": {},
   "outputs": [],
   "source": []
  },
  {
   "cell_type": "code",
   "execution_count": null,
   "metadata": {},
   "outputs": [],
   "source": []
  },
  {
   "cell_type": "code",
   "execution_count": null,
   "metadata": {},
   "outputs": [],
   "source": []
  },
  {
   "cell_type": "code",
   "execution_count": null,
   "metadata": {},
   "outputs": [],
   "source": []
  },
  {
   "cell_type": "markdown",
   "metadata": {},
   "source": [
    "What kind of inference might you make about the images above? Does the thresholding matter?"
   ]
  },
  {
   "cell_type": "code",
   "execution_count": null,
   "metadata": {},
   "outputs": [],
   "source": []
  },
  {
   "cell_type": "markdown",
   "metadata": {},
   "source": [
    "Please make sure this notebook is saved under your MyNotebooks folder with your most recent changes. After you do that it is safe to click the Logout button in the top left."
   ]
  }
 ],
 "metadata": {
  "kernelspec": {
   "display_name": "Python 3",
   "language": "python",
   "name": "python3"
  },
  "language_info": {
   "codemirror_mode": {
    "name": "ipython",
    "version": 3
   },
   "file_extension": ".py",
   "mimetype": "text/x-python",
   "name": "python",
   "nbconvert_exporter": "python",
   "pygments_lexer": "ipython3",
   "version": "3.7.3"
  }
 },
 "nbformat": 4,
 "nbformat_minor": 2
}
